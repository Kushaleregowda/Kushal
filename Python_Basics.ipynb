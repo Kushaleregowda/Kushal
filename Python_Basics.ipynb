{
 "cells": [
  {
   "cell_type": "code",
   "execution_count": 10,
   "metadata": {},
   "outputs": [
    {
     "name": "stdout",
     "output_type": "stream",
     "text": [
      "a\n"
     ]
    }
   ],
   "source": [
    " a =5 \n",
    " print (\"a\")\n"
   ]
  },
  {
   "cell_type": "code",
   "execution_count": 19,
   "metadata": {},
   "outputs": [
    {
     "name": "stdout",
     "output_type": "stream",
     "text": [
      "number is greter than 10\n"
     ]
    }
   ],
   "source": [
    "num = 34\n",
    "if num > 10:\n",
    "    print(\"number is greter than 10\")\n",
    "elif num <10:\n",
    "    print(\"number is less than 10\")\n",
    "else:\n",
    "    print(\"something\")"
   ]
  },
  {
   "cell_type": "code",
   "execution_count": 35,
   "metadata": {},
   "outputs": [
    {
     "name": "stdout",
     "output_type": "stream",
     "text": [
      "Largest number is 45\n"
     ]
    }
   ],
   "source": [
    "## Identify the largest number \n",
    "\n",
    "num1=45\n",
    "num2=35\n",
    "num3=12\n",
    "\n",
    "if (num1>=num2) and (num1>=num3):\n",
    "    print (\"Largest number is {}\" .format(num1))\n",
    "\n",
    "elif (num2>=num1) and (num2>=num3):\n",
    "    print (\"largest number is  {}\" .format(num2))\n",
    "\n",
    "else:\n",
    "    print(\"largest number is {}\" .format(num3))\n"
   ]
  },
  {
   "cell_type": "code",
   "execution_count": 31,
   "metadata": {},
   "outputs": [
    {
     "name": "stdout",
     "output_type": "stream",
     "text": [
      "Largest element in the list is: 74\n"
     ]
    }
   ],
   "source": [
    "## Identify the largest number \n",
    "\n",
    "num1=74\n",
    "num2=73\n",
    "num3=73\n",
    "\n",
    "if (num1>=num2) and (num1>=num3):\n",
    "    largest= num1\n",
    "\n",
    "elif (num2>=num1) and (num2>=num3):\n",
    "     largest=num2\n",
    "\n",
    "else:\n",
    "    largest=num3\n",
    "    \n",
    "print(\"Largest element in the list is: {}\".format(largest))"
   ]
  },
  {
   "cell_type": "code",
   "execution_count": 37,
   "metadata": {},
   "outputs": [
    {
     "name": "stdout",
     "output_type": "stream",
     "text": [
      "product of all the elements in the list is: 720\n"
     ]
    }
   ],
   "source": [
    "\n",
    "# to find the product of all the numbers in the list \n",
    "\n",
    "lst = [1,2,3,4,5,6]\n",
    "\n",
    "product =1\n",
    "index =0\n",
    "\n",
    "while index < len(lst):\n",
    "    product *= lst[index]\n",
    "    index +=1\n",
    "    \n",
    "print (\"product of all the elements in the list is: {}\" .format(product))\n",
    "\n"
   ]
  },
  {
   "cell_type": "code",
   "execution_count": 1,
   "metadata": {},
   "outputs": [
    {
     "name": "stdout",
     "output_type": "stream",
     "text": [
      "1\n",
      "2\n",
      "3\n",
      "4\n",
      "5\n",
      "6\n",
      "nothing left in the list\n"
     ]
    }
   ],
   "source": [
    "\n",
    "# to list all the numbers in the list \n",
    "\n",
    "lst = [1,2,3,4,5,6]\n",
    "\n",
    "product =1\n",
    "index =0\n",
    "\n",
    "while index < len(lst):\n",
    "    print (lst[index])\n",
    "    index +=1\n",
    "    \n",
    "print (\"nothing left in the list\")\n"
   ]
  },
  {
   "cell_type": "code",
   "execution_count": 2,
   "metadata": {},
   "outputs": [
    {
     "name": "stdout",
     "output_type": "stream",
     "text": [
      "ENTER A NUMBER: 69\n",
      "69 is divisble by 3\n",
      "69 is divisble by 23\n",
      "69 is NOT A PRIME number \n"
     ]
    }
   ],
   "source": [
    "# Program to find the prime number\n",
    "\n",
    "num= int(input (\"ENTER A NUMBER: \"))\n",
    "\n",
    "isDivisible= False;\n",
    "\n",
    "i=2;\n",
    "\n",
    "while i < num:\n",
    "    if num % i==0:\n",
    "        isDivisible=True;\n",
    "        print (\"{} is divisble by {}\" .format (num,i))\n",
    "    i+=1;\n",
    "    \n",
    "if isDivisible:\n",
    "    print (\"{} is NOT A PRIME number \" .format (num))\n",
    "else:\n",
    "    print (\"{} is A PRIME number\" .format (num))\n",
    "\n"
   ]
  },
  {
   "cell_type": "code",
   "execution_count": 5,
   "metadata": {},
   "outputs": [
    {
     "name": "stdout",
     "output_type": "stream",
     "text": [
      "1\n",
      "20\n",
      "39\n",
      "58\n",
      "77\n",
      "96\n"
     ]
    }
   ],
   "source": [
    "# For loop\n",
    "\n",
    "for i in range ( 1,100,19):\n",
    "    print(i)"
   ]
  },
  {
   "cell_type": "code",
   "execution_count": 16,
   "metadata": {},
   "outputs": [
    {
     "name": "stdout",
     "output_type": "stream",
     "text": [
      "Enter the First name Kushal\n",
      "Enter the Last name Gowda\n",
      "Name of the user is :Gowda Kushal\n"
     ]
    }
   ],
   "source": [
    "# Program to Accept input from users and print it in reverse order\n",
    "\n",
    "\n",
    "Fname= str(input(\"Enter the First name \"))\n",
    "Lname= str(input(\"Enter the Last name \"))\n",
    "\n",
    "print(\"Name of the user is :{}\" .format( Lname + \" \" + Fname ))\n",
    "\n"
   ]
  },
  {
   "cell_type": "code",
   "execution_count": 20,
   "metadata": {},
   "outputs": [
    {
     "name": "stdout",
     "output_type": "stream",
     "text": [
      "Volume of the Sphere is :904.896\n"
     ]
    }
   ],
   "source": [
    "#Write a Python program to find the volume of a sphere with diameter 12 cm.\n",
    "\n",
    "# Formaula  V=4/3 * π * r3\n",
    "\n",
    "d=12\n",
    "r= d/2\n",
    "pie= 3.142\n",
    "\n",
    "Volume = 4/3 *pie*r**3\n",
    "\n",
    "print (\"Volume of the Sphere is :{}\".format(Volume))\n",
    "\n",
    "\n"
   ]
  },
  {
   "cell_type": "code",
   "execution_count": 22,
   "metadata": {},
   "outputs": [
    {
     "name": "stdout",
     "output_type": "stream",
     "text": [
      "Enter a strWhat is your name\n",
      "eman ruoy si tahW\n"
     ]
    }
   ],
   "source": [
    "#Write a Python program to reverse a word after accepting the input from the user.\n",
    "\n",
    "Word= str(input(\"Enter a str\"))\n",
    "\n",
    "print(Word[::-1])\n",
    "\n",
    "\n",
    "\n"
   ]
  },
  {
   "cell_type": "code",
   "execution_count": 23,
   "metadata": {},
   "outputs": [
    {
     "name": "stdout",
     "output_type": "stream",
     "text": [
      "1 9\n"
     ]
    }
   ],
   "source": [
    "mylist = [1, 3, 6, 10]\n",
    "a = (x**2 for x in mylist)\n",
    "print(next(a), next(a))"
   ]
  },
  {
   "cell_type": "code",
   "execution_count": null,
   "metadata": {},
   "outputs": [],
   "source": [
    "#Write a Python program to get the string from the given string where\n",
    "#all the occurrence of its first char has been changed to '$,' except first\n",
    "#char itself?\n",
    "\n",
    "\n",
    "\n",
    "\n"
   ]
  }
 ],
 "metadata": {
  "kernelspec": {
   "display_name": "Python 3",
   "language": "python",
   "name": "python3"
  },
  "language_info": {
   "codemirror_mode": {
    "name": "ipython",
    "version": 3
   },
   "file_extension": ".py",
   "mimetype": "text/x-python",
   "name": "python",
   "nbconvert_exporter": "python",
   "pygments_lexer": "ipython3",
   "version": "3.7.3"
  }
 },
 "nbformat": 4,
 "nbformat_minor": 2
}
