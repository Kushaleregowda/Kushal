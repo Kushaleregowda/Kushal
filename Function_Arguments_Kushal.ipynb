{
 "cells": [
  {
   "cell_type": "code",
   "execution_count": 19,
   "metadata": {},
   "outputs": [
    {
     "name": "stdout",
     "output_type": "stream",
     "text": [
      " Hello Sathish Good morning!\n",
      " Hello Sathish Good night!\n"
     ]
    }
   ],
   "source": [
    "def greet (name,msg=\"Good morning!\"):\n",
    "    \n",
    "    print( \" Hello {0} {1}\".format(name,msg))\n",
    "    \n",
    "greet(\"Sathish\")\n",
    "\n",
    "#with arguement \n",
    "\n",
    "greet (\"Sathish\", \"Good night!\")"
   ]
  },
  {
   "cell_type": "code",
   "execution_count": 25,
   "metadata": {},
   "outputs": [
    {
     "name": "stdout",
     "output_type": "stream",
     "text": [
      "Hello Sathish ,Good morning!\n"
     ]
    }
   ],
   "source": [
    "def greet(**kwargs):\n",
    "    \n",
    "    if kwargs:\n",
    "        print(\"Hello {0} ,{1}\".format (kwargs['name'],kwargs['msg']))\n",
    "\n",
    "greet(name=\"Sathish\", msg=\"Good morning!\")\n",
    "\n",
    "## kwargs= key word arguments"
   ]
  },
  {
   "cell_type": "code",
   "execution_count": 29,
   "metadata": {},
   "outputs": [
    {
     "name": "stdout",
     "output_type": "stream",
     "text": [
      "Hello Kushal\n",
      "Hello Rohith\n",
      "Hello Ramya\n",
      "Hello Amrutha\n"
     ]
    }
   ],
   "source": [
    "# Arbitary arguments\n",
    "\n",
    "def greet(*names):\n",
    "    \n",
    "\n",
    "    \n",
    "    for name in names:\n",
    "        print(\"Hello {0}\".format (name))\n",
    "        \n",
    "greet(\"Kushal\", \"Rohith\" , \"Ramya\", \"Amrutha\")"
   ]
  },
  {
   "cell_type": "code",
   "execution_count": null,
   "metadata": {},
   "outputs": [],
   "source": [
    "\n",
    "\n"
   ]
  }
 ],
 "metadata": {
  "kernelspec": {
   "display_name": "Python 3",
   "language": "python",
   "name": "python3"
  },
  "language_info": {
   "codemirror_mode": {
    "name": "ipython",
    "version": 3
   },
   "file_extension": ".py",
   "mimetype": "text/x-python",
   "name": "python",
   "nbconvert_exporter": "python",
   "pygments_lexer": "ipython3",
   "version": "3.6.7"
  }
 },
 "nbformat": 4,
 "nbformat_minor": 2
}
