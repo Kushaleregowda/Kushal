{
 "cells": [
  {
   "cell_type": "raw",
   "metadata": {},
   "source": [
    "List is one of the Sequence Data structure\n",
    "Lists are collection of items ( Strings ,integers or even other lists)\n",
    "Lists are enclosed in []\n",
    "Each items in the list has an assigned index value\n",
    "Each item in a list is separated by commas\n",
    "Lists are mutable which means they can be changed\n"
   ]
  },
  {
   "cell_type": "markdown",
   "metadata": {},
   "source": [
    "# List creation"
   ]
  },
  {
   "cell_type": "code",
   "execution_count": 1,
   "metadata": {},
   "outputs": [
    {
     "name": "stdout",
     "output_type": "stream",
     "text": [
      "[]\n",
      "[1, 2, 3, 4]\n",
      "[1, 2, 'string']\n",
      "[[1, 2], [3, 4]]\n",
      "['ramu', 'sita', 'lakshmana']\n"
     ]
    }
   ],
   "source": [
    "#Create an empty list\n",
    "\n",
    "empty_List=[]  # empty list\n",
    "print(empty_List)\n",
    "\n",
    "lst= [1,2,3,4] # integers \n",
    "print(lst)\n",
    "\n",
    "lst1=[1,2,'string'] # integers with string\n",
    "print(lst1)\n",
    "\n",
    "lst2=[[1,2],[3,4]]\n",
    "print(lst2)\n",
    "\n",
    "lst3=['ramu','sita','lakshmana']\n",
    "print(lst3)"
   ]
  },
  {
   "cell_type": "markdown",
   "metadata": {},
   "source": [
    "# List Length"
   ]
  },
  {
   "cell_type": "code",
   "execution_count": 2,
   "metadata": {},
   "outputs": [
    {
     "name": "stdout",
     "output_type": "stream",
     "text": [
      "4\n"
     ]
    }
   ],
   "source": [
    "lst=['2','5','7','8']\n",
    "print(len(lst))"
   ]
  },
  {
   "cell_type": "markdown",
   "metadata": {},
   "source": [
    "# List Append"
   ]
  },
  {
   "cell_type": "code",
   "execution_count": 3,
   "metadata": {},
   "outputs": [
    {
     "name": "stdout",
     "output_type": "stream",
     "text": [
      "[1, 2, 3, 4, 5, 'feb']\n"
     ]
    }
   ],
   "source": [
    "# append always adds an list at the end\n",
    "\n",
    "lst=[1,2,3,4,5]\n",
    "lst.append('feb')\n",
    "print(lst)"
   ]
  },
  {
   "cell_type": "markdown",
   "metadata": {},
   "source": [
    "# List Insert"
   ]
  },
  {
   "cell_type": "code",
   "execution_count": 7,
   "metadata": {},
   "outputs": [
    {
     "name": "stdout",
     "output_type": "stream",
     "text": [
      "['one', 'two', 'three', 'four', 'five']\n"
     ]
    }
   ],
   "source": [
    "lst=['one' , 'three', 'four', 'five']\n",
    "lst.insert(1,'two')  # arguments for insert ... ( position , value)...position starts from 0\n",
    "print(lst)"
   ]
  },
  {
   "cell_type": "markdown",
   "metadata": {},
   "source": [
    "# List Remove"
   ]
  },
  {
   "cell_type": "code",
   "execution_count": 9,
   "metadata": {},
   "outputs": [
    {
     "name": "stdout",
     "output_type": "stream",
     "text": [
      "['one', 'three', 'four', 'five']\n"
     ]
    }
   ],
   "source": [
    "\n",
    "lst.remove('two')\n",
    "print(lst)"
   ]
  },
  {
   "cell_type": "markdown",
   "metadata": {},
   "source": [
    "# List Append And Extend"
   ]
  },
  {
   "cell_type": "raw",
   "metadata": {},
   "source": [
    "Difference between Append and Extend is \n",
    "Append - adds the list to the end\n",
    "Extend - adds the values of the list as an element \n"
   ]
  },
  {
   "cell_type": "code",
   "execution_count": 15,
   "metadata": {},
   "outputs": [
    {
     "name": "stdout",
     "output_type": "stream",
     "text": [
      "['one', 'three', 'four', 'five', ['five', 'six']]\n"
     ]
    }
   ],
   "source": [
    "lst1=['one' , 'three', 'four', 'five']\n",
    "lst2=['five','six']\n",
    "#print(lst1.append(lst2))  --- does not work\n",
    "#lst=lst1.append(lst2) ---does not work\n",
    "lst1.append(lst2)\n",
    "print(lst1)\n"
   ]
  },
  {
   "cell_type": "code",
   "execution_count": 16,
   "metadata": {},
   "outputs": [
    {
     "name": "stdout",
     "output_type": "stream",
     "text": [
      "['one', 'three', 'four', 'five', 'five', 'six']\n"
     ]
    }
   ],
   "source": [
    "lst1=['one' , 'three', 'four', 'five']\n",
    "lst2=['five','six']\n",
    "lst1.extend(lst2)\n",
    "print(lst1)"
   ]
  },
  {
   "cell_type": "markdown",
   "metadata": {},
   "source": [
    "# List Delete"
   ]
  },
  {
   "cell_type": "code",
   "execution_count": 25,
   "metadata": {},
   "outputs": [
    {
     "name": "stdout",
     "output_type": "stream",
     "text": [
      "['one', 'four', 'five']\n"
     ]
    }
   ],
   "source": [
    "lst1=['one' , 'three', 'four', 'five']\n",
    "\n",
    "del lst1[1]\n",
    "\n",
    "print(lst1)"
   ]
  },
  {
   "cell_type": "code",
   "execution_count": 26,
   "metadata": {},
   "outputs": [
    {
     "name": "stdout",
     "output_type": "stream",
     "text": [
      "four\n",
      "['one', 'five']\n"
     ]
    }
   ],
   "source": [
    "a=lst1.pop(1)\n",
    "print(a)\n",
    "\n",
    "print(lst1)"
   ]
  },
  {
   "cell_type": "markdown",
   "metadata": {},
   "source": [
    "# List related Keywords in python"
   ]
  },
  {
   "cell_type": "code",
   "execution_count": 32,
   "metadata": {},
   "outputs": [
    {
     "name": "stdout",
     "output_type": "stream",
     "text": [
      "I got the string\n",
      "I didn find the string\n"
     ]
    }
   ],
   "source": [
    "# in and not in are one of the primary keywords used \n",
    "\n",
    "list1=['one','two','three','four','five']\n",
    "\n",
    "if 'four' in list1:\n",
    "    print(\"I got the string\")\n",
    "    \n",
    "if 'six' not in list1:\n",
    "    print (\"I didn find the string\")\n",
    "    "
   ]
  },
  {
   "cell_type": "markdown",
   "metadata": {},
   "source": [
    "# List Reverse"
   ]
  },
  {
   "cell_type": "code",
   "execution_count": 40,
   "metadata": {},
   "outputs": [
    {
     "name": "stdout",
     "output_type": "stream",
     "text": [
      "['four', 'three', 'two', 'one']\n",
      "None\n"
     ]
    }
   ],
   "source": [
    "lst=['one','two','three','four']\n",
    "lst.reverse()\n",
    "print(lst)   # this works\n",
    "print(lst.reverse())   # this does not work"
   ]
  },
  {
   "cell_type": "markdown",
   "metadata": {},
   "source": [
    "# List Sorting"
   ]
  },
  {
   "cell_type": "code",
   "execution_count": 41,
   "metadata": {},
   "outputs": [
    {
     "name": "stdout",
     "output_type": "stream",
     "text": [
      "[1, 4, 6, 7, 8, 12, 23, 34]\n"
     ]
    }
   ],
   "source": [
    "# this technique changes the value in  original array\n",
    "list=[1,4,6,7,8,34,23,12]\n",
    "\n",
    "list.sort()\n",
    "print(list)"
   ]
  },
  {
   "cell_type": "code",
   "execution_count": 44,
   "metadata": {},
   "outputs": [
    {
     "name": "stdout",
     "output_type": "stream",
     "text": [
      " Sorted Value : [0, 1, 2, 3, 5, 23, 56]\n",
      " Original_value : [1, 3, 5, 2, 0, 56, 23]\n"
     ]
    }
   ],
   "source": [
    "# this approach will not change the values in the original list\n",
    "\n",
    "list1=[1,3,5,2,0,56,23]\n",
    "\n",
    "sorted_list=sorted(list1)\n",
    "\n",
    "print(\" Sorted Value :\" , sorted_list)\n",
    "\n",
    "print(\" Original_value :\" , list1)\n"
   ]
  },
  {
   "cell_type": "code",
   "execution_count": 46,
   "metadata": {},
   "outputs": [
    {
     "name": "stdout",
     "output_type": "stream",
     "text": [
      "Reverse sorted : [75, 64, 45, 34, 25, 23, 23, 1]\n"
     ]
    }
   ],
   "source": [
    "# print list in Reverse sorted order\n",
    "\n",
    "list1=[34,23,45,75,23,1,25,64]\n",
    "\n",
    "reverse_sorted=sorted(list1, reverse=True)\n",
    "\n",
    "print(\"Reverse sorted :\", reverse_sorted)"
   ]
  },
  {
   "cell_type": "code",
   "execution_count": 47,
   "metadata": {},
   "outputs": [],
   "source": [
    "#Sorted list does not works when we have integer and string types due to data type issue"
   ]
  },
  {
   "cell_type": "markdown",
   "metadata": {},
   "source": [
    "#    Lists having multiple referrence "
   ]
  },
  {
   "cell_type": "code",
   "execution_count": 49,
   "metadata": {},
   "outputs": [
    {
     "name": "stdout",
     "output_type": "stream",
     "text": [
      "[1, 2, 3, 4, 5, 6, 6]\n",
      "[1, 2, 3, 4, 5, 6, 6]\n"
     ]
    }
   ],
   "source": [
    "# since we have two referrence for same list , it is impacting to both the variables as given below\n",
    "\n",
    "lst=[1,2,3,4,5,6]\n",
    "\n",
    "abc= lst\n",
    "\n",
    "abc.append(6)\n",
    "print (lst)\n",
    "print(abc)"
   ]
  },
  {
   "cell_type": "markdown",
   "metadata": {},
   "source": [
    "# String Split to create a List"
   ]
  },
  {
   "cell_type": "code",
   "execution_count": 57,
   "metadata": {},
   "outputs": [
    {
     "name": "stdout",
     "output_type": "stream",
     "text": [
      "[' what ', ' is', ' your', ' name', ' and', ' where', ' have', ' you', ' been']\n"
     ]
    }
   ],
   "source": [
    "a=\" what , is, your, name, and, where, have, you, been\"\n",
    "\n",
    "b=a.split(',')\n",
    "print(b)"
   ]
  },
  {
   "cell_type": "code",
   "execution_count": 59,
   "metadata": {},
   "outputs": [
    {
     "name": "stdout",
     "output_type": "stream",
     "text": [
      "['This', 'is', 'the', 'Super', 'hero', 'of', 'Bangalore']\n"
     ]
    }
   ],
   "source": [
    "c= \" This is the Super hero of Bangalore\"\n",
    "\n",
    "d=c.split()  # default split is white character or space /tab\n",
    "print(d)"
   ]
  },
  {
   "cell_type": "markdown",
   "metadata": {},
   "source": [
    "# List Indexing"
   ]
  },
  {
   "cell_type": "raw",
   "metadata": {},
   "source": [
    "Each item in the list has been assigned with index value starting from 0\n",
    "Accessing elements in the list is called indexing\n"
   ]
  },
  {
   "cell_type": "code",
   "execution_count": 60,
   "metadata": {},
   "outputs": [
    {
     "name": "stdout",
     "output_type": "stream",
     "text": [
      "3\n"
     ]
    }
   ],
   "source": [
    "list1=[1,2,3,4,5,6]\n",
    "\n",
    "print(list1[2])"
   ]
  },
  {
   "cell_type": "code",
   "execution_count": 61,
   "metadata": {},
   "outputs": [
    {
     "name": "stdout",
     "output_type": "stream",
     "text": [
      "5\n"
     ]
    }
   ],
   "source": [
    "print(list1[-2])"
   ]
  },
  {
   "cell_type": "code",
   "execution_count": 63,
   "metadata": {},
   "outputs": [
    {
     "name": "stdout",
     "output_type": "stream",
     "text": [
      "1\n"
     ]
    }
   ],
   "source": [
    "print(list1[0])"
   ]
  },
  {
   "cell_type": "markdown",
   "metadata": {},
   "source": [
    "# List Slicing"
   ]
  },
  {
   "cell_type": "raw",
   "metadata": {},
   "source": [
    "Accessing parts of segment is called slicing\n",
    "\n",
    "The key point to remember is that the : end value represents the first value that is not in the selected slide"
   ]
  },
  {
   "cell_type": "code",
   "execution_count": 64,
   "metadata": {},
   "outputs": [
    {
     "name": "stdout",
     "output_type": "stream",
     "text": [
      "[10, 20, 30, 45, 55, 23, 65, 89, 90]\n"
     ]
    }
   ],
   "source": [
    "numbers=[10,20,30,45,55,23,65,89,90]\n",
    "\n",
    "print(numbers[:])  # to print all ( start point : end point) end point = n-1 , list index starts from 0"
   ]
  },
  {
   "cell_type": "code",
   "execution_count": 65,
   "metadata": {},
   "outputs": [
    {
     "name": "stdout",
     "output_type": "stream",
     "text": [
      "[20]\n"
     ]
    }
   ],
   "source": [
    "print(numbers[1:2])"
   ]
  },
  {
   "cell_type": "code",
   "execution_count": 66,
   "metadata": {},
   "outputs": [
    {
     "name": "stdout",
     "output_type": "stream",
     "text": [
      "[20, 30]\n"
     ]
    }
   ],
   "source": [
    "print(numbers[1:3])"
   ]
  },
  {
   "cell_type": "code",
   "execution_count": 68,
   "metadata": {},
   "outputs": [
    {
     "name": "stdout",
     "output_type": "stream",
     "text": [
      "[10, 20, 30, 45, 55]\n"
     ]
    }
   ],
   "source": [
    "print (numbers[0:5])"
   ]
  },
  {
   "cell_type": "markdown",
   "metadata": {},
   "source": [
    "\n",
    "# List extend using \"+\""
   ]
  },
  {
   "cell_type": "code",
   "execution_count": 69,
   "metadata": {},
   "outputs": [
    {
     "name": "stdout",
     "output_type": "stream",
     "text": [
      "[1, 2, 3, 4, 5, 6, 'apple', 'orange']\n"
     ]
    }
   ],
   "source": [
    "list1=[1,2,3,4,5,6]\n",
    "list2=['apple','orange']\n",
    "\n",
    "list= list1 + list2\n",
    "print(list)"
   ]
  },
  {
   "cell_type": "markdown",
   "metadata": {},
   "source": [
    "# List Count"
   ]
  },
  {
   "cell_type": "code",
   "execution_count": 72,
   "metadata": {},
   "outputs": [
    {
     "name": "stdout",
     "output_type": "stream",
     "text": [
      "4\n"
     ]
    }
   ],
   "source": [
    "numbers=[1,2,3,5,2,1,46,82,1,4,6,1,6,12,7,8,3]\n",
    "print(numbers.count(1))  # prints the count of number frequency"
   ]
  },
  {
   "cell_type": "code",
   "execution_count": 73,
   "metadata": {},
   "outputs": [
    {
     "name": "stdout",
     "output_type": "stream",
     "text": [
      "2\n"
     ]
    }
   ],
   "source": [
    "print(numbers.count(6)) # prints the count of number frequency"
   ]
  },
  {
   "cell_type": "markdown",
   "metadata": {},
   "source": [
    "# List Looping"
   ]
  },
  {
   "cell_type": "code",
   "execution_count": 74,
   "metadata": {},
   "outputs": [
    {
     "name": "stdout",
     "output_type": "stream",
     "text": [
      "1\n",
      "2\n",
      "3\n",
      "5\n",
      "6\n",
      "7\n"
     ]
    }
   ],
   "source": [
    "lst=[1,2,3,5,6,7]\n",
    "\n",
    "# just to print all the elements in the list\n",
    "\n",
    "for ele in lst:\n",
    "    print(ele)"
   ]
  },
  {
   "cell_type": "code",
   "execution_count": 75,
   "metadata": {},
   "outputs": [
    {
     "name": "stdout",
     "output_type": "stream",
     "text": [
      "abc\n",
      "pine\n",
      "water\n"
     ]
    }
   ],
   "source": [
    "lst=['abc','pine','water']\n",
    "\n",
    "for kushal in lst:\n",
    "    print(kushal)"
   ]
  },
  {
   "cell_type": "markdown",
   "metadata": {},
   "source": [
    "# List comprehension"
   ]
  },
  {
   "cell_type": "code",
   "execution_count": 90,
   "metadata": {},
   "outputs": [
    {
     "ename": "TypeError",
     "evalue": "unsupported operand type(s) for ** or pow(): 'list' and 'int'",
     "output_type": "error",
     "traceback": [
      "\u001b[1;31m---------------------------------------------------------------------------\u001b[0m",
      "\u001b[1;31mTypeError\u001b[0m                                 Traceback (most recent call last)",
      "\u001b[1;32m<ipython-input-90-b08eb0fb3b24>\u001b[0m in \u001b[0;36m<module>\u001b[1;34m\u001b[0m\n\u001b[0;32m      4\u001b[0m \u001b[0msquare_numbers\u001b[0m\u001b[1;33m=\u001b[0m\u001b[1;33m[\u001b[0m\u001b[1;33m]\u001b[0m\u001b[1;33m\u001b[0m\u001b[1;33m\u001b[0m\u001b[0m\n\u001b[0;32m      5\u001b[0m \u001b[1;32mfor\u001b[0m \u001b[0mele\u001b[0m \u001b[1;32min\u001b[0m \u001b[0mnumbers\u001b[0m\u001b[1;33m:\u001b[0m\u001b[1;33m\u001b[0m\u001b[1;33m\u001b[0m\u001b[0m\n\u001b[1;32m----> 6\u001b[1;33m         \u001b[0msquare_numbers\u001b[0m\u001b[1;33m.\u001b[0m\u001b[0mappend\u001b[0m\u001b[1;33m(\u001b[0m\u001b[0mnumbers\u001b[0m\u001b[1;33m**\u001b[0m\u001b[1;36m2\u001b[0m\u001b[1;33m)\u001b[0m\u001b[1;33m\u001b[0m\u001b[1;33m\u001b[0m\u001b[0m\n\u001b[0m\u001b[0;32m      7\u001b[0m \u001b[1;33m\u001b[0m\u001b[0m\n\u001b[0;32m      8\u001b[0m \u001b[0mprint\u001b[0m\u001b[1;33m(\u001b[0m\u001b[0msquare_numbers\u001b[0m\u001b[1;33m)\u001b[0m\u001b[1;33m\u001b[0m\u001b[1;33m\u001b[0m\u001b[0m\n",
      "\u001b[1;31mTypeError\u001b[0m: unsupported operand type(s) for ** or pow(): 'list' and 'int'"
     ]
    }
   ],
   "source": [
    "# without using list comprehension\n",
    "\n",
    "numbers=[1,2,3,5,6,7]\n",
    "square_numbers=[]\n",
    "for ele in numbers:\n",
    "        square_numbers.append(numbers**2)\n",
    "        \n",
    "print(square_numbers)"
   ]
  },
  {
   "cell_type": "code",
   "execution_count": 86,
   "metadata": {},
   "outputs": [
    {
     "name": "stdout",
     "output_type": "stream",
     "text": [
      "[0, 1, 4, 9, 16, 25, 36, 49]\n"
     ]
    }
   ],
   "source": [
    "# using list comprehension\n",
    "\n",
    "squares=[ele **2  for ele in range(8) ]\n",
    "print(squares)"
   ]
  },
  {
   "cell_type": "code",
   "execution_count": 92,
   "metadata": {},
   "outputs": [
    {
     "name": "stdout",
     "output_type": "stream",
     "text": [
      "[-20, -40, -60, -100, -140, 120, 140, 160]\n",
      "[-20, 120, 140, 160]\n"
     ]
    }
   ],
   "source": [
    "# example\n",
    "lst=[-10,-20,-30,-50,-70,60,70,80]\n",
    "\n",
    "# create a new list with new douobled values\n",
    "\n",
    "new_list=[i*2 for i in lst]\n",
    "print(new_list)\n",
    "\n",
    "# additional filter to exclude any numbers\n",
    "\n",
    "new_list1=[ i*2 for i in lst if i > -20]\n",
    "print(new_list1)"
   ]
  },
  {
   "cell_type": "code",
   "execution_count": 88,
   "metadata": {},
   "outputs": [],
   "source": [
    "#Basically the list comprehension is used to write the code in fewer lines without change in logic"
   ]
  },
  {
   "cell_type": "markdown",
   "metadata": {},
   "source": [
    "# Nested List compreshensions"
   ]
  },
  {
   "cell_type": "code",
   "execution_count": null,
   "metadata": {},
   "outputs": [],
   "source": []
  }
 ],
 "metadata": {
  "kernelspec": {
   "display_name": "Python 3",
   "language": "python",
   "name": "python3"
  },
  "language_info": {
   "codemirror_mode": {
    "name": "ipython",
    "version": 3
   },
   "file_extension": ".py",
   "mimetype": "text/x-python",
   "name": "python",
   "nbconvert_exporter": "python",
   "pygments_lexer": "ipython3",
   "version": "3.6.7"
  }
 },
 "nbformat": 4,
 "nbformat_minor": 2
}
